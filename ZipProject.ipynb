{
 "cells": [
  {
   "cell_type": "markdown",
   "metadata": {},
   "source": [
    "# Pattern Recogniztion Project\n",
    "\n",
    "## Background and Introduction\n",
    "\n",
    "This project refers to an exercise listed in the classic textbook _The Elements of Statistical Learning_ by T. Hastie, R. Tibshirani, and J. Friedman. The data set concerns handwritten number recognition. The pictures were scanned and transformed into 256 numbers representing the information of grey level. More details about the data can be found on the website of the book.\n",
    "\n",
    "<https://web.stanford.edu/~hastie/ElemStatLearn/>\n",
    "\n",
    "Our goal here is to treat it as a starting multiclass classification problem and practice the application of K-Nearest Neighbors approach and Logistic classification.\n",
    "\n",
    "## Importing and Processing Data"
   ]
  },
  {
   "cell_type": "code",
   "execution_count": 1,
   "metadata": {},
   "outputs": [],
   "source": [
    "import csv\n",
    "import pandas as pd\n",
    "import numpy as np\n",
    "import matplotlib.pyplot as plt\n",
    "import seaborn as sns\n",
    "%matplotlib inline"
   ]
  },
  {
   "cell_type": "code",
   "execution_count": 18,
   "metadata": {},
   "outputs": [],
   "source": [
    "data = open(\"zip.train.txt\",\"r+\")\n",
    "f = list(csv.reader(data))\n",
    "data.close()\n",
    "te_data = open(\"zip.test\",\"r+\")\n",
    "te_f = list(csv.reader(te_data))\n",
    "te_data.close()"
   ]
  },
  {
   "cell_type": "markdown",
   "metadata": {},
   "source": [
    "As the data is loaded into the notebook, it is found that the each line is stored as a long string. In the following I define a function _NumerTransform_ to render both training and test data sets into the pd.DataFrame format."
   ]
  },
  {
   "cell_type": "code",
   "execution_count": 15,
   "metadata": {},
   "outputs": [],
   "source": [
    "def NumerTransform(strData):\n",
    "    NumerData = list()\n",
    "    for row in strData:\n",
    "        tmp = list(map(float,row[0].split()))\n",
    "        tmp[0] = int(tmp[0])\n",
    "        NumerData.append(tmp)\n",
    "    return pd.DataFrame(NumerData)"
   ]
  },
  {
   "cell_type": "code",
   "execution_count": 19,
   "metadata": {},
   "outputs": [],
   "source": [
    "TrainSet = NumerTransform(f)\n",
    "TestSet = NumerTransform(te_f)"
   ]
  },
  {
   "cell_type": "code",
   "execution_count": 23,
   "metadata": {},
   "outputs": [],
   "source": [
    "TrainY = TrainSet.iloc[:,0]\n",
    "TrainX = TrainSet.iloc[:,1:]\n",
    "TestY = TestSet.iloc[:,0]\n",
    "TestX = TestSet.iloc[:,1:]"
   ]
  },
  {
   "cell_type": "markdown",
   "metadata": {},
   "source": [
    "## Machine Learning Implementation\n",
    "\n",
    "From here we are ready to do some learning. \n",
    "\n",
    "### KNN method\n",
    "First we apply K-Nearest-Neighbor method. The complexity is controlled by the number of neighnors"
   ]
  },
  {
   "cell_type": "code",
   "execution_count": 9,
   "metadata": {},
   "outputs": [],
   "source": [
    "from sklearn.neighbors import KNeighborsClassifier"
   ]
  },
  {
   "cell_type": "code",
   "execution_count": 33,
   "metadata": {},
   "outputs": [],
   "source": [
    "candidateNeighbors = [1,2,3,4,5,6,7,8,9,10,11,12,13,14,15]\n",
    "inSampleScore = []\n",
    "outSampleScore = []\n",
    "for neighbors in candidateNeighbors:\n",
    "    KN = KNeighborsClassifier(n_neighbors = neighbors)\n",
    "    KN.fit(TrainX,TrainY)\n",
    "    inSampleScore.append(KN.score(TrainX,TrainY))\n",
    "    outSampleScore.append(KN.score(TestX,TestY))"
   ]
  },
  {
   "cell_type": "markdown",
   "metadata": {},
   "source": [
    "After training, we plot the in-sample score and out-sample score as functions of number of neighbors. We see _n = 1_ has the highest in-sample score, ..., almost by construction, yet it does not guarantee the optimal out-sample score."
   ]
  },
  {
   "cell_type": "code",
   "execution_count": 36,
   "metadata": {},
   "outputs": [
    {
     "data": {
      "text/plain": [
       "Text(0.5, 0, 'n of neighbors')"
      ]
     },
     "execution_count": 36,
     "metadata": {},
     "output_type": "execute_result"
    },
    {
     "data": {
      "image/png": "[encoded data removed]",
      "text/plain": [
       "<Figure size 432x288 with 1 Axes>"
      ]
     },
     "metadata": {
      "needs_background": "light"
     },
     "output_type": "display_data"
    }
   ],
   "source": [
    "plt.scatter(candidateNeighbors,inSampleScore)\n",
    "plt.scatter(candidateNeighbors,outSampleScore)\n",
    "plt.ylabel(\"precision scores\")\n",
    "plt.xlabel(\"n of neighbors\")"
   ]
  },
  {
   "cell_type": "markdown",
   "metadata": {},
   "source": [
    "### Logistic Classifier\n",
    "In the second part we tackle the same problem using the logistic classifier. Here the model complexity is controlled by the number of maximal iteration during the gradient descent process. "
   ]
  },
  {
   "cell_type": "code",
   "execution_count": 28,
   "metadata": {},
   "outputs": [],
   "source": [
    "from sklearn.linear_model import LogisticRegression"
   ]
  },
  {
   "cell_type": "code",
   "execution_count": 31,
   "metadata": {
    "scrolled": false
   },
   "outputs": [
    {
     "name": "stderr",
     "output_type": "stream",
     "text": [
      "/Library/Frameworks/Python.framework/Versions/3.6/lib/python3.6/site-packages/sklearn/linear_model/logistic.py:433: FutureWarning: Default solver will be changed to 'lbfgs' in 0.22. Specify a solver to silence this warning.\n",
      "  FutureWarning)\n",
      "/Library/Frameworks/Python.framework/Versions/3.6/lib/python3.6/site-packages/sklearn/linear_model/logistic.py:460: FutureWarning: Default multi_class will be changed to 'auto' in 0.22. Specify the multi_class option to silence this warning.\n",
      "  \"this warning.\", FutureWarning)\n",
      "/Library/Frameworks/Python.framework/Versions/3.6/lib/python3.6/site-packages/sklearn/svm/base.py:931: ConvergenceWarning: Liblinear failed to converge, increase the number of iterations.\n",
      "  \"the number of iterations.\", ConvergenceWarning)\n",
      "/Library/Frameworks/Python.framework/Versions/3.6/lib/python3.6/site-packages/sklearn/linear_model/logistic.py:433: FutureWarning: Default solver will be changed to 'lbfgs' in 0.22. Specify a solver to silence this warning.\n",
      "  FutureWarning)\n",
      "/Library/Frameworks/Python.framework/Versions/3.6/lib/python3.6/site-packages/sklearn/linear_model/logistic.py:460: FutureWarning: Default multi_class will be changed to 'auto' in 0.22. Specify the multi_class option to silence this warning.\n",
      "  \"this warning.\", FutureWarning)\n",
      "/Library/Frameworks/Python.framework/Versions/3.6/lib/python3.6/site-packages/sklearn/linear_model/logistic.py:433: FutureWarning: Default solver will be changed to 'lbfgs' in 0.22. Specify a solver to silence this warning.\n",
      "  FutureWarning)\n",
      "/Library/Frameworks/Python.framework/Versions/3.6/lib/python3.6/site-packages/sklearn/linear_model/logistic.py:460: FutureWarning: Default multi_class will be changed to 'auto' in 0.22. Specify the multi_class option to silence this warning.\n",
      "  \"this warning.\", FutureWarning)\n",
      "/Library/Frameworks/Python.framework/Versions/3.6/lib/python3.6/site-packages/sklearn/linear_model/logistic.py:433: FutureWarning: Default solver will be changed to 'lbfgs' in 0.22. Specify a solver to silence this warning.\n",
      "  FutureWarning)\n",
      "/Library/Frameworks/Python.framework/Versions/3.6/lib/python3.6/site-packages/sklearn/linear_model/logistic.py:460: FutureWarning: Default multi_class will be changed to 'auto' in 0.22. Specify the multi_class option to silence this warning.\n",
      "  \"this warning.\", FutureWarning)\n",
      "/Library/Frameworks/Python.framework/Versions/3.6/lib/python3.6/site-packages/sklearn/linear_model/logistic.py:433: FutureWarning: Default solver will be changed to 'lbfgs' in 0.22. Specify a solver to silence this warning.\n",
      "  FutureWarning)\n",
      "/Library/Frameworks/Python.framework/Versions/3.6/lib/python3.6/site-packages/sklearn/linear_model/logistic.py:460: FutureWarning: Default multi_class will be changed to 'auto' in 0.22. Specify the multi_class option to silence this warning.\n",
      "  \"this warning.\", FutureWarning)\n"
     ]
    }
   ],
   "source": [
    "iterations = [10,30,50,70,100]\n",
    "LogInSampleScore = []\n",
    "LogOutSampleScore = []\n",
    "for itr in iterations:\n",
    "    lr = LogisticRegression(max_iter=itr)\n",
    "    lr.fit(TrainX,TrainY)\n",
    "    LogInSampleScore.append(lr.score(TrainX,TrainY))\n",
    "    LogOutSampleScore.append(lr.score(TestX,TestY))"
   ]
  },
  {
   "cell_type": "code",
   "execution_count": 32,
   "metadata": {},
   "outputs": [
    {
     "data": {
      "text/plain": [
       "<matplotlib.collections.PathCollection at 0x125f464a8>"
      ]
     },
     "execution_count": 32,
     "metadata": {},
     "output_type": "execute_result"
    },
    {
     "data": {
      "image/png": "[encoded data removed]",
      "text/plain": [
       "<Figure size 432x288 with 1 Axes>"
      ]
     },
     "metadata": {
      "needs_background": "light"
     },
     "output_type": "display_data"
    }
   ],
   "source": [
    "plt.scatter(iterations ,LogInSampleScore)\n",
    "plt.scatter(iterations ,LogOutSampleScore)"
   ]
  },
  {
   "cell_type": "code",
   "execution_count": null,
   "metadata": {},
   "outputs": [],
   "source": []
  }
 ],
 "metadata": {
  "kernelspec": {
   "display_name": "Python 3",
   "language": "python",
   "name": "python3"
  },
  "language_info": {
   "codemirror_mode": {
    "name": "ipython",
    "version": 3
   },
   "file_extension": ".py",
   "mimetype": "text/x-python",
   "name": "python",
   "nbconvert_exporter": "python",
   "pygments_lexer": "ipython3",
   "version": "3.6.4"
  }
 },
 "nbformat": 4,
 "nbformat_minor": 2
}
